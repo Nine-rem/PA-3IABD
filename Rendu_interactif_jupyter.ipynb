{
 "cells": [
  {
   "cell_type": "markdown",
   "id": "f32a414d",
   "metadata": {},
   "source": [
    "# Projet Annuel\n",
    "## Objectif du notebook :\n",
    "\n",
    "- Présenter tes expérimentations (sur les jeux de données simples + ton dataset final),\n",
    "\n",
    "- Afficher les résultats des tests de tes modèles (LinearModel, Perceptron, etc.),\n",
    "\n",
    "- Visualiser les comportements (graphiques, courbes de loss, précision, etc.),\n",
    "\n",
    "- Analyser ce que tu observes (commentaires, comparaison entre modèles),\n",
    "\n",
    "- Mettre en évidence des phénomènes vus en cours (sous-apprentissage, sur-apprentissage, etc.)."
   ]
  },
  {
   "cell_type": "markdown",
   "id": "96e7ef81",
   "metadata": {},
   "source": []
  }
 ],
 "metadata": {
  "language_info": {
   "name": "python"
  }
 },
 "nbformat": 4,
 "nbformat_minor": 5
}
